{
 "cells": [
  {
   "cell_type": "markdown",
   "id": "85c34c09-608a-444e-8bd7-534ed278376b",
   "metadata": {},
   "source": [
    "# My Jupyter Notebook on IBM Watson Studio"
   ]
  },
  {
   "cell_type": "markdown",
   "id": "aea342d4-6d77-418f-80ad-341d43d8de95",
   "metadata": {},
   "source": [
    "**Diego Devoto** <br>\n",
    "Desired Ocupation: Data Scientist in healthcare"
   ]
  },
  {
   "cell_type": "markdown",
   "id": "93f95c1b-6cc3-45f1-8618-1c9bdf6916bc",
   "metadata": {},
   "source": [
    "*I am interested in data science because it is a field suitable for curious people with analytical and communication skills. I think the development possibilities within the field are vast and exciting.*"
   ]
  },
  {
   "cell_type": "markdown",
   "id": "d239737d-f168-4bb0-b83c-8f93897eefd9",
   "metadata": {},
   "source": [
    "### The following code will produce a message on the welcome screen and perform a sum of two random numbers and return it on the screen."
   ]
  },
  {
   "cell_type": "code",
   "execution_count": 6,
   "id": "4d313ac7-64e8-4df8-8115-2f1fe06abf46",
   "metadata": {},
   "outputs": [
    {
     "name": "stdout",
     "output_type": "stream",
     "text": [
      "Welcome to my notebook! \n",
      "My name is Diego, nice to have you around!\n",
      "\n",
      "Lets generate some numbers!\n",
      "\n",
      "The sum of 24 and 13 is 37\n"
     ]
    }
   ],
   "source": [
    "import random\n",
    "\n",
    "print(\"Welcome to my notebook! \\nMy name is Diego, nice to have you around!\\n\")\n",
    "print(\"Lets generate some numbers!\\n\")\n",
    "\n",
    "# Generate two random numbers\n",
    "num1 = random.randint(1, 100)\n",
    "num2 = random.randint(1, 100)\n",
    "\n",
    "# Sum the numbers\n",
    "sum = num1 + num2\n",
    "\n",
    "# Display the result\n",
    "print(\"The sum of\", num1, \"and\", num2, \"is\", sum)"
   ]
  },
  {
   "cell_type": "markdown",
   "id": "21796fd7-2a6d-4ba3-b923-f4b876d33fc4",
   "metadata": {},
   "source": [
    "---\n",
    "\n",
    "## This is a subheading for this last section\n",
    "\n",
    "A horizontal rule can be created using three or more dashes `---`:\n",
    "\n",
    "---\n",
    "\n",
    "A bulleted list can be created using asterisks `*`:\n",
    "\n",
    "* Item 1\n",
    "* Item 2\n",
    "* Item 3\n",
    "\n",
    "A numbered list can be created using numbers followed by periods `1.`:\n",
    "\n",
    "1. First item\n",
    "2. Second item\n",
    "3. Third item\n",
    "\n",
    "Tables can be created using pipe symbols `|` to denote columns and hyphens `-` to denote headers:\n",
    "\n",
    "| Column 1 | Column 2 | Column 3 |\n",
    "| -------- | -------- | -------- |\n",
    "| Row 1, Column 1 | Row 1, Column 2 | Row 1, Column 3 |\n",
    "| Row 2, Column 1 | Row 2, Column 2 | Row 2, Column 3 |\n",
    "\n",
    "Hyperlinks can be created using brackets `[]` for the link text and parentheses `()` for the URL:\n",
    "\n",
    "[This Learning Material](https://www.ibm.com/docs/en/watson-studio-local/1.2.3?topic=notebooks-markdown-jupyter-cheatsheet)\n",
    "\n",
    "Images can be added using an exclamation point `!` followed by brackets and parentheses, similar to hyperlinks:\n",
    "\n",
    "![Python logo](https://www.python.org/static/community_logos/python-logo-master-v3-TM.png)\n",
    "\n",
    "Code/syntax highlighting can be added using backticks \\`\\`\\` followed by the language name:\n",
    "\n",
    "```python\n",
    "print(\"Hello, world!\")\n"
   ]
  },
  {
   "cell_type": "code",
   "execution_count": null,
   "id": "2a954858-e882-4e0f-a825-c0af2b25156d",
   "metadata": {},
   "outputs": [],
   "source": []
  }
 ],
 "metadata": {
  "kernelspec": {
   "display_name": "Python",
   "language": "python",
   "name": "conda-env-python-py"
  },
  "language_info": {
   "codemirror_mode": {
    "name": "ipython",
    "version": 3
   },
   "file_extension": ".py",
   "mimetype": "text/x-python",
   "name": "python",
   "nbconvert_exporter": "python",
   "pygments_lexer": "ipython3",
   "version": "3.7.12"
  }
 },
 "nbformat": 4,
 "nbformat_minor": 5
}
